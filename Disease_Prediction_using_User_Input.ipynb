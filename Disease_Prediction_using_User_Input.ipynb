{
  "nbformat": 4,
  "nbformat_minor": 0,
  "metadata": {
    "colab": {
      "name": "Copy_of_Disease_Prediction_using_User_Input.ipynb",
      "provenance": [],
      "collapsed_sections": []
    },
    "kernelspec": {
      "name": "python3",
      "display_name": "Python 3"
    }
  },
  "cells": [
    {
      "cell_type": "code",
      "metadata": {
        "id": "BftUb3hknEVu"
      },
      "source": [
        "import numpy as np\n",
        "import pandas as pd\n",
        "import pickle\n",
        "import json"
      ],
      "execution_count": null,
      "outputs": []
    },
    {
      "cell_type": "code",
      "metadata": {
        "id": "gLkJFZ1ynKoQ"
      },
      "source": [
        "dataset = pd.read_csv('Training.csv')"
      ],
      "execution_count": null,
      "outputs": []
    },
    {
      "cell_type": "code",
      "metadata": {
        "id": "N1RtBXbAoJcO"
      },
      "source": [
        "model=pickle.load(open('models.dot','rb'))"
      ],
      "execution_count": null,
      "outputs": []
    },
    {
      "cell_type": "code",
      "metadata": {
        "id": "VzYHOX-bgtyx"
      },
      "source": [
        "dataset1=dataset.drop(['prognosis'],axis=1)"
      ],
      "execution_count": null,
      "outputs": []
    },
    {
      "cell_type": "code",
      "metadata": {
        "id": "8Ap7COp2aU4t"
      },
      "source": [
        "def inputTaker(dataset1):\n",
        "  temp=pd.DataFrame(dataset1.sum(axis=0),columns=['frequency'])\n",
        "  temp=temp.sort_values('frequency',ascending=False)\n",
        "  choices=temp.head(10).index\n",
        "  print('Select Symptoms(Comma Separated):')\n",
        "  for i,v in enumerate(choices):\n",
        "    print('['+str(i)+']'+' '+str(' '.join(v.split('_'))),end='\\t')\n",
        "  print('[-1] None')\n",
        "  inputLine=input()\n",
        "  inputLine=[int(x) for x in inputLine.split(',')]\n",
        "  inputArr=dict()\n",
        "  if -1 in inputLine:\n",
        "    for i,v in enumerate(choices):\n",
        "      inputArr[v]=0\n",
        "  else:\n",
        "    for i,v in enumerate(choices):\n",
        "      if i in inputLine:\n",
        "        inputArr[v]=1\n",
        "  qry = ' and '.join([\"{} == {}\".format(k,v) for k,v in inputArr.items()])\n",
        "  tempDataset=dataset1.query(qry)\n",
        "  tempDataset=tempDataset.drop(choices,axis=1)\n",
        "  if(tempDataset.shape[0]>1):\n",
        "    inputArr.update(inputTaker(tempDataset))\n",
        "  return inputArr"
      ],
      "execution_count": null,
      "outputs": []
    },
    {
      "cell_type": "code",
      "metadata": {
        "id": "QZ5h22f1jmXH",
        "colab": {
          "base_uri": "https://localhost:8080/",
          "height": 187
        },
        "outputId": "b90ba6e9-fac5-4709-e831-92a0b28c0273"
      },
      "source": [
        "inputArr=inputTaker(dataset1)"
      ],
      "execution_count": null,
      "outputs": [
        {
          "output_type": "stream",
          "text": [
            "Select Symptoms(Comma Separated):\n",
            "[0] fatigue\t[1] vomiting\t[2] high fever\t[3] loss of appetite\t[4] nausea\t[5] headache\t[6] abdominal pain\t[7] yellowish skin\t[8] yellowing of eyes\t[9] chills\t[-1] None\n",
            "0,2,5,1\n",
            "Select Symptoms(Comma Separated):\n",
            "[0] belly pain\t[1] diarrhoea\t[2] constipation\t[3] back pain\t[4] pain behind the eyes\t[5] toxic look (typhos)\t[6] malaise\t[7] skin rash\t[8] joint pain\t[9] red spots over body\t[-1] None\n",
            "3,7\n",
            "Select Symptoms(Comma Separated):\n",
            "[0] muscle pain\t[1] itching\t[2] nodal skin eruptions\t[3] dischromic  patches\t[4] abnormal menstruation\t[5] altered sensorium\t[6] irritability\t[7] depression\t[8] internal itching\t[9] passage of gases\t[-1] None\n",
            "1\n"
          ],
          "name": "stdout"
        }
      ]
    },
    {
      "cell_type": "code",
      "metadata": {
        "id": "w-CDRdFAl7mr",
        "colab": {
          "base_uri": "https://localhost:8080/",
          "height": 33
        },
        "outputId": "7280ae06-9d02-4f2c-e794-4c4c0711249a"
      },
      "source": [
        "print(json.dumps(inputArr))\n",
        "predictArr=list()\n",
        "for x in dataset1.columns:\n",
        "  if x in inputArr.keys():\n",
        "    predictArr.append(inputArr[x])\n",
        "  else:\n",
        "    predictArr.append(0)"
      ],
      "execution_count": null,
      "outputs": [
        {
          "output_type": "stream",
          "text": [
            "{\"fatigue\": 1, \"vomiting\": 1, \"high_fever\": 1, \"headache\": 1, \"back_pain\": 1, \"skin_rash\": 1, \"itching\": 1}\n"
          ],
          "name": "stdout"
        }
      ]
    },
    {
      "cell_type": "code",
      "metadata": {
        "id": "rGY3MueZoq1_",
        "colab": {
          "base_uri": "https://localhost:8080/",
          "height": 33
        },
        "outputId": "79dc4496-d681-4ab1-bf84-a3bb95f42957"
      },
      "source": [
        "if(sum(predictArr)>2):\n",
        "  tempPred=model.predict([predictArr])\n",
        "  print('You might have \\''+str(tempPred[0])+'\\'. You should consult a Doctor')\n",
        "else:\n",
        "  print('Not able to Diagnose your Problem')"
      ],
      "execution_count": null,
      "outputs": [
        {
          "output_type": "stream",
          "text": [
            "You might have 'Heart attack'. You should consult a Doctor\n"
          ],
          "name": "stdout"
        }
      ]
    },
    {
      "cell_type": "code",
      "metadata": {
        "id": "qvSBrYWzWzV9",
        "colab": {
          "base_uri": "https://localhost:8080/",
          "height": 719
        },
        "outputId": "faadba8b-1fff-40db-c19e-f608f7ec1780"
      },
      "source": [
        "pd.DataFrame(model.predict_proba([predictArr]), columns=model.classes_).max(axis=0)"
      ],
      "execution_count": null,
      "outputs": [
        {
          "output_type": "execute_result",
          "data": {
            "text/plain": [
              "(vertigo) Paroymsal  Positional Vertigo    0.024392\n",
              "AIDS                                       0.024391\n",
              "Acne                                       0.024392\n",
              "Alcoholic hepatitis                        0.024390\n",
              "Allergy                                    0.024392\n",
              "Arthritis                                  0.024390\n",
              "Bronchial Asthma                           0.024391\n",
              "Cervical spondylosis                       0.024398\n",
              "Chicken pox                                0.024389\n",
              "Chronic cholestasis                        0.024393\n",
              "Common Cold                                0.024385\n",
              "Dengue                                     0.024386\n",
              "Diabetes                                   0.024386\n",
              "Dimorphic hemmorhoids(piles)               0.024389\n",
              "Drug Reaction                              0.024394\n",
              "Fungal infection                           0.024400\n",
              "GERD                                       0.024391\n",
              "Gastroenteritis                            0.024393\n",
              "Heart attack                               0.024393\n",
              "Hepatitis B                                0.024386\n",
              "Hepatitis C                                0.024393\n",
              "Hepatitis D                                0.024393\n",
              "Hepatitis E                                0.024385\n",
              "Hypertension                               0.024392\n",
              "Hyperthyroidism                            0.024386\n",
              "Hypoglycemia                               0.024386\n",
              "Hypothyroidism                             0.024385\n",
              "Impetigo                                   0.024392\n",
              "Jaundice                                   0.024395\n",
              "Malaria                                    0.024390\n",
              "Migraine                                   0.024389\n",
              "Osteoarthristis                            0.024389\n",
              "Paralysis (brain hemorrhage)               0.024394\n",
              "Peptic ulcer diseae                        0.024392\n",
              "Pneumonia                                  0.024386\n",
              "Psoriasis                                  0.024390\n",
              "Tuberculosis                               0.024386\n",
              "Typhoid                                    0.024390\n",
              "Urinary tract infection                    0.024390\n",
              "Varicose veins                             0.024389\n",
              "hepatitis A                                0.024387\n",
              "dtype: float64"
            ]
          },
          "metadata": {
            "tags": []
          },
          "execution_count": 12
        }
      ]
    },
    {
      "cell_type": "code",
      "metadata": {
        "id": "INgOwMpH2cEy",
        "colab": {
          "base_uri": "https://localhost:8080/",
          "height": 50
        },
        "outputId": "13d95522-807e-4505-d29e-46282c97f850"
      },
      "source": [
        "pd.DataFrame(model.predict_proba([predictArr]), columns=model.classes_).idxmax(axis=1)"
      ],
      "execution_count": null,
      "outputs": [
        {
          "output_type": "execute_result",
          "data": {
            "text/plain": [
              "0    Fungal infection\n",
              "dtype: object"
            ]
          },
          "metadata": {
            "tags": []
          },
          "execution_count": 13
        }
      ]
    },
    {
      "cell_type": "code",
      "metadata": {
        "id": "8fka4M3c-cGm"
      },
      "source": [
        ""
      ],
      "execution_count": null,
      "outputs": []
    }
  ]
}